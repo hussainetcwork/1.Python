{
 "cells": [
  {
   "cell_type": "code",
   "execution_count": 2,
   "id": "b2589820",
   "metadata": {},
   "outputs": [],
   "source": [
    "from MultiplefunctionLibrary import multiplefuctions\n",
    "#Syntax from libraryname import classname"
   ]
  },
  {
   "cell_type": "code",
   "execution_count": 4,
   "id": "7631ad49",
   "metadata": {},
   "outputs": [
    {
     "name": "stdout",
     "output_type": "stream",
     "text": [
      "Enter the Age:66\n"
     ]
    },
    {
     "data": {
      "text/plain": [
       "'Senior Citizen'"
      ]
     },
     "execution_count": 4,
     "metadata": {},
     "output_type": "execute_result"
    }
   ],
   "source": [
    "multiplefuctions.AgeCategory()\n",
    "#classname.functionname()"
   ]
  },
  {
   "cell_type": "code",
   "execution_count": 5,
   "id": "dfd74321",
   "metadata": {},
   "outputs": [
    {
     "name": "stdout",
     "output_type": "stream",
     "text": [
      "Enter first number:10\n",
      "Enter second number:20\n"
     ]
    },
    {
     "data": {
      "text/plain": [
       "30"
      ]
     },
     "execution_count": 5,
     "metadata": {},
     "output_type": "execute_result"
    }
   ],
   "source": [
    "multiplefuctions.addition()\n",
    "#classname.functionname()"
   ]
  },
  {
   "cell_type": "code",
   "execution_count": null,
   "id": "dcb37ae5",
   "metadata": {},
   "outputs": [],
   "source": []
  }
 ],
 "metadata": {
  "kernelspec": {
   "display_name": "Python 3 (ipykernel)",
   "language": "python",
   "name": "python3"
  },
  "language_info": {
   "codemirror_mode": {
    "name": "ipython",
    "version": 3
   },
   "file_extension": ".py",
   "mimetype": "text/x-python",
   "name": "python",
   "nbconvert_exporter": "python",
   "pygments_lexer": "ipython3",
   "version": "3.11.5"
  }
 },
 "nbformat": 4,
 "nbformat_minor": 5
}
