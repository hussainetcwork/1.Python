{
 "cells": [
  {
   "cell_type": "code",
   "execution_count": null,
   "id": "7f088444",
   "metadata": {},
   "outputs": [],
   "source": [
    "lists=[29,35,43,16,90,23]"
   ]
  },
  {
   "cell_type": "code",
   "execution_count": null,
   "id": "b380b183",
   "metadata": {},
   "outputs": [],
   "source": [
    "def AgeCategory():\n",
    "    for age in lists:\n",
    "        if (age<18):\n",
    "            print(\"Child\")\n",
    "        elif(age<39):\n",
    "            print(\"Adult\")\n",
    "        elif(age<59):\n",
    "            print(\"Citizen\")\n",
    "        else:\n",
    "            print(\"Senior Citizen\")"
   ]
  },
  {
   "cell_type": "code",
   "execution_count": null,
   "id": "a3046a2c",
   "metadata": {},
   "outputs": [],
   "source": [
    "AgeCategory()"
   ]
  },
  {
   "cell_type": "code",
   "execution_count": 3,
   "id": "c46ec4d3",
   "metadata": {},
   "outputs": [
    {
     "name": "stdout",
     "output_type": "stream",
     "text": [
      "Enter the Age:29\n"
     ]
    }
   ],
   "source": [
    "age=int(input(\"Enter the Age:\"))\n",
    "def AgeCategory():\n",
    "        if (age<18):\n",
    "            category=\"Child\"\n",
    "        elif(age<39):\n",
    "            category=\"Adult\"\n",
    "        elif(age<59):\n",
    "            category=\"Citizen\"\n",
    "        else:\n",
    "            category=\"Senior Citizen\"\n",
    "        return category\n",
    "        "
   ]
  },
  {
   "cell_type": "code",
   "execution_count": 4,
   "id": "ab05a790",
   "metadata": {},
   "outputs": [
    {
     "data": {
      "text/plain": [
       "'Adult'"
      ]
     },
     "execution_count": 4,
     "metadata": {},
     "output_type": "execute_result"
    }
   ],
   "source": [
    "AgeCategory()"
   ]
  },
  {
   "cell_type": "code",
   "execution_count": 5,
   "id": "303b8b11",
   "metadata": {},
   "outputs": [],
   "source": [
    "def AgeCategory():\n",
    "        if (age<18):\n",
    "            category=\"Child\"\n",
    "        elif(age<39):\n",
    "            category=\"Adult\"\n",
    "        elif(age<59):\n",
    "            category=\"Citizen\"\n",
    "        else:\n",
    "            category=\"Senior Citizen\"\n",
    "        return category"
   ]
  },
  {
   "cell_type": "code",
   "execution_count": 9,
   "id": "30725e10",
   "metadata": {},
   "outputs": [
    {
     "name": "stdout",
     "output_type": "stream",
     "text": [
      "Enter the Age:32\n",
      "Adult\n"
     ]
    },
    {
     "data": {
      "text/plain": [
       "'Adult'"
      ]
     },
     "execution_count": 9,
     "metadata": {},
     "output_type": "execute_result"
    }
   ],
   "source": [
    "age=int(input(\"Enter the Age:\"))\n",
    "agecate=AgeCategory()\n",
    "print(agecate)\n",
    "agecate"
   ]
  },
  {
   "cell_type": "code",
   "execution_count": 10,
   "id": "1aceedb2",
   "metadata": {},
   "outputs": [],
   "source": [
    "def AgeCategoryNoreturn():\n",
    "        if (age<18):\n",
    "            category=\"Child\"\n",
    "        elif(age<39):\n",
    "            category=\"Adult\"\n",
    "        elif(age<59):\n",
    "            category=\"Citizen\"\n",
    "        else:\n",
    "            category=\"Senior Citizen\""
   ]
  },
  {
   "cell_type": "code",
   "execution_count": 11,
   "id": "c9af71fb",
   "metadata": {},
   "outputs": [
    {
     "name": "stdout",
     "output_type": "stream",
     "text": [
      "Enter the Age:32\n",
      "None\n"
     ]
    }
   ],
   "source": [
    "age=int(input(\"Enter the Age:\"))\n",
    "agecate=AgeCategoryNoreturn()\n",
    "print(agecate)\n",
    "agecate"
   ]
  },
  {
   "cell_type": "code",
   "execution_count": 12,
   "id": "2e2cee9f",
   "metadata": {},
   "outputs": [],
   "source": [
    "def AgeCategory():\n",
    "        age=int(input(\"Enter the Age:\"))\n",
    "        if (age<18):\n",
    "            category=\"Child\"\n",
    "        elif(age<39):\n",
    "            category=\"Adult\"\n",
    "        elif(age<59):\n",
    "            category=\"Citizen\"\n",
    "        else:\n",
    "            category=\"Senior Citizen\"\n",
    "        return category"
   ]
  },
  {
   "cell_type": "code",
   "execution_count": 16,
   "id": "55aee80d",
   "metadata": {},
   "outputs": [
    {
     "name": "stdout",
     "output_type": "stream",
     "text": [
      "Enter the Age:25\n",
      "He is not child\n"
     ]
    }
   ],
   "source": [
    "#Non Parametrized fuction\n",
    "category=AgeCategory()\n",
    "if (category==\"Child\"):\n",
    "    print(\"He is child\")\n",
    "else:\n",
    "    print(\"He is not child\")\n"
   ]
  },
  {
   "cell_type": "code",
   "execution_count": 17,
   "id": "05bbdb65",
   "metadata": {},
   "outputs": [],
   "source": [
    "#Parametrized fuction\n",
    "def addition(num1,num2):\n",
    "    add=num1+num2\n",
    "    return add"
   ]
  },
  {
   "cell_type": "code",
   "execution_count": 18,
   "id": "ad3a0a67",
   "metadata": {},
   "outputs": [
    {
     "data": {
      "text/plain": [
       "9"
      ]
     },
     "execution_count": 18,
     "metadata": {},
     "output_type": "execute_result"
    }
   ],
   "source": [
    "addition(4,5)"
   ]
  },
  {
   "cell_type": "code",
   "execution_count": 19,
   "id": "209a3b9e",
   "metadata": {},
   "outputs": [
    {
     "data": {
      "text/plain": [
       "'45'"
      ]
     },
     "execution_count": 19,
     "metadata": {},
     "output_type": "execute_result"
    }
   ],
   "source": [
    "addition(\"4\",\"5\")"
   ]
  },
  {
   "cell_type": "code",
   "execution_count": 20,
   "id": "fc612335",
   "metadata": {},
   "outputs": [
    {
     "name": "stdout",
     "output_type": "stream",
     "text": [
      "Enter first number:10\n",
      "Enter second number:20\n"
     ]
    },
    {
     "data": {
      "text/plain": [
       "'1020'"
      ]
     },
     "execution_count": 20,
     "metadata": {},
     "output_type": "execute_result"
    }
   ],
   "source": [
    "a=input(\"Enter first number:\")\n",
    "b=input(\"Enter second number:\")\n",
    "addition(a,b)"
   ]
  },
  {
   "cell_type": "code",
   "execution_count": 21,
   "id": "fee77416",
   "metadata": {},
   "outputs": [
    {
     "name": "stdout",
     "output_type": "stream",
     "text": [
      "Enter first number:10\n",
      "Enter second number:20\n"
     ]
    },
    {
     "data": {
      "text/plain": [
       "30"
      ]
     },
     "execution_count": 21,
     "metadata": {},
     "output_type": "execute_result"
    }
   ],
   "source": [
    "a=int(input(\"Enter first number:\"))\n",
    "b=int(input(\"Enter second number:\"))\n",
    "addition(a,b)"
   ]
  },
  {
   "cell_type": "code",
   "execution_count": null,
   "id": "acde1be2",
   "metadata": {},
   "outputs": [],
   "source": []
  }
 ],
 "metadata": {
  "kernelspec": {
   "display_name": "Python 3 (ipykernel)",
   "language": "python",
   "name": "python3"
  },
  "language_info": {
   "codemirror_mode": {
    "name": "ipython",
    "version": 3
   },
   "file_extension": ".py",
   "mimetype": "text/x-python",
   "name": "python",
   "nbconvert_exporter": "python",
   "pygments_lexer": "ipython3",
   "version": "3.11.5"
  }
 },
 "nbformat": 4,
 "nbformat_minor": 5
}
