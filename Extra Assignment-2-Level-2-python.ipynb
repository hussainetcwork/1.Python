{
 "cells": [
  {
   "cell_type": "code",
   "execution_count": 6,
   "id": "42e8e8e5",
   "metadata": {},
   "outputs": [
    {
     "name": "stdout",
     "output_type": "stream",
     "text": [
      "0\n",
      "1\n",
      "2\n",
      "3\n",
      "4\n",
      "5\n",
      "6\n",
      "7\n",
      "8\n",
      "9\n",
      "10\n",
      "11\n",
      "12\n",
      "13\n",
      "14\n",
      "15\n",
      "16\n",
      "17\n",
      "18\n",
      "19\n"
     ]
    }
   ],
   "source": [
    "# print 0 to 20 by using range\n",
    "for temp in range(0,20):\n",
    "    print(temp)"
   ]
  },
  {
   "cell_type": "code",
   "execution_count": 11,
   "id": "273be5c6",
   "metadata": {},
   "outputs": [
    {
     "name": "stdout",
     "output_type": "stream",
     "text": [
      "0 1 2 3 4 5 6 7 8 9 10 11 12 13 14 15 16 17 18 19 "
     ]
    }
   ],
   "source": [
    "# print range 10 to 20\n",
    "for temp in range(0,20):\n",
    "    print(temp, end=\" \")"
   ]
  },
  {
   "cell_type": "code",
   "execution_count": 12,
   "id": "030c29f5",
   "metadata": {},
   "outputs": [
    {
     "name": "stdout",
     "output_type": "stream",
     "text": [
      "0 1 2 3 4 5 6 7 8 9 10 11 12 13 14 15 16 17 18 19\n"
     ]
    }
   ],
   "source": [
    "# print range 10 to 20\n",
    "print(*range(0,20))"
   ]
  },
  {
   "cell_type": "code",
   "execution_count": 16,
   "id": "ef6f302a",
   "metadata": {},
   "outputs": [
    {
     "name": "stdout",
     "output_type": "stream",
     "text": [
      "[10, 20, 30, 40, 50, 60, 80]\n",
      "Number of item in the List: 7\n"
     ]
    }
   ],
   "source": [
    "lists=[10,20,30,40,50,60,80]\n",
    "print (lists)\n",
    "print(\"Number of item in the List:\",len(lists))"
   ]
  },
  {
   "cell_type": "code",
   "execution_count": 17,
   "id": "a01a82d8",
   "metadata": {},
   "outputs": [
    {
     "name": "stdout",
     "output_type": "stream",
     "text": [
      "Artificial Intelligence\n",
      "A\n",
      "r\n",
      "t\n",
      "i\n",
      "f\n",
      "i\n",
      "c\n",
      "i\n",
      "a\n",
      "l\n",
      " \n",
      "I\n",
      "n\n",
      "t\n",
      "e\n",
      "l\n",
      "l\n",
      "i\n",
      "g\n",
      "e\n",
      "n\n",
      "c\n",
      "e\n"
     ]
    }
   ],
   "source": [
    "print (\"Artificial Intelligence\")\n",
    "for temp in \"Artificial Intelligence\":\n",
    "    print(temp)"
   ]
  },
  {
   "cell_type": "code",
   "execution_count": 25,
   "id": "54d93620",
   "metadata": {},
   "outputs": [
    {
     "name": "stdout",
     "output_type": "stream",
     "text": [
      "('Hussain', 25, 'Ahamed', 35)\n",
      "[('Hussain', 25, 'Ahamed', 35, 'Hope', 'AI')]\n",
      "[('Hussain', 25, 'Ahamed', 35), ('Hope', 'AI')]\n"
     ]
    }
   ],
   "source": [
    "# Print this mixered datatype using Tuples\n",
    "Tuples1=(\"Hussain\",25,\"Ahamed\",35)\n",
    "print (Tuples1)\n",
    "Tuples2=(\"Hope\",\"AI\")\n",
    "print ([Tuples1+Tuples2])\n",
    "lists=[Tuples1,Tuples2]\n",
    "print (lists)\n",
    "\n"
   ]
  },
  {
   "cell_type": "code",
   "execution_count": 29,
   "id": "4c063b4f",
   "metadata": {},
   "outputs": [
    {
     "name": "stdout",
     "output_type": "stream",
     "text": [
      "[('Hussain', 25, 'Ahamed', 35), ('Hope', 'AI')]\n"
     ]
    }
   ],
   "source": [
    "# Print this mixered datatype using Tuples\n",
    "Tuples1=[(\"Hussain\",25,\"Ahamed\",35),(\"Hope\",\"AI\")]\n",
    "print (Tuples1)\n"
   ]
  },
  {
   "cell_type": "code",
   "execution_count": 40,
   "id": "e78160ed",
   "metadata": {},
   "outputs": [
    {
     "name": "stdout",
     "output_type": "stream",
     "text": [
      "(20, 10, 16, 19, 25, 1, 276, 188)\n",
      "19 is odd\n",
      "25 is odd\n",
      "1 is odd\n"
     ]
    }
   ],
   "source": [
    "# print Odd Numbers in the list\n",
    "Num=(20,10,16,19,25,1,276,188)\n",
    "print(Num)\n",
    "for odd in Num:\n",
    "    if ((odd%2)!=0):\n",
    "        print(odd,\"is odd\")"
   ]
  },
  {
   "cell_type": "code",
   "execution_count": 41,
   "id": "ffaa624a",
   "metadata": {},
   "outputs": [
    {
     "name": "stdout",
     "output_type": "stream",
     "text": [
      "(20, 10, 16, 19, 25, 1, 276, 188)\n",
      "20 is even\n",
      "10 is even\n",
      "16 is even\n",
      "276 is even\n",
      "188 is even\n"
     ]
    }
   ],
   "source": [
    "# print Odd Numbers in the list\n",
    "Num=(20,10,16,19,25,1,276,188)\n",
    "print(Num)\n",
    "for even in Num:\n",
    "    if ((even%2)==0):\n",
    "        print(even,\"is even\")"
   ]
  },
  {
   "cell_type": "code",
   "execution_count": null,
   "id": "886304bd",
   "metadata": {},
   "outputs": [],
   "source": []
  }
 ],
 "metadata": {
  "kernelspec": {
   "display_name": "Python 3 (ipykernel)",
   "language": "python",
   "name": "python3"
  },
  "language_info": {
   "codemirror_mode": {
    "name": "ipython",
    "version": 3
   },
   "file_extension": ".py",
   "mimetype": "text/x-python",
   "name": "python",
   "nbconvert_exporter": "python",
   "pygments_lexer": "ipython3",
   "version": "3.11.5"
  }
 },
 "nbformat": 4,
 "nbformat_minor": 5
}
