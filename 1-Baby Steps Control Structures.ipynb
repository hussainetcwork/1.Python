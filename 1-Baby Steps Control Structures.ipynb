{
 "cells": [
  {
   "cell_type": "code",
   "execution_count": 1,
   "id": "5c80e23c",
   "metadata": {},
   "outputs": [
    {
     "name": "stdout",
     "output_type": "stream",
     "text": [
      "Welcome to Assignment-1\n"
     ]
    }
   ],
   "source": [
    "print(\"Welcome to Assignment-1\")"
   ]
  },
  {
   "cell_type": "code",
   "execution_count": 15,
   "id": "75bafa93",
   "metadata": {},
   "outputs": [
    {
     "name": "stdout",
     "output_type": "stream",
     "text": [
      "Num1=  10\n",
      "Num2=  30\n",
      "Add=  40\n"
     ]
    }
   ],
   "source": [
    "num1 = 10\n",
    "print (\"Num1= \",num1)\n",
    "num2 = 30\n",
    "print (\"Num2= \",num2)\n",
    "print(\"Add= \",num1+num2)\n",
    "\n"
   ]
  },
  {
   "cell_type": "code",
   "execution_count": 26,
   "id": "0f8641c7",
   "metadata": {},
   "outputs": [
    {
     "name": "stdout",
     "output_type": "stream",
     "text": [
      "Enter the BMI Index:45\n",
      "Obese class III\n"
     ]
    }
   ],
   "source": [
    "bmi=float(input(\"Enter the BMI Index:\"))\n",
    "if (bmi<18.5):\n",
    "    print (\"Under Weight\")\n",
    "elif (bmi>=18.5 and bmi<=24.9):\n",
    "    print (\"Normal Weight\")\n",
    "elif (bmi>=25 and bmi<=29.9):\n",
    "    print (\"Over Weight\")\n",
    "elif (bmi>=30):\n",
    "    if (bmi>=30 and bmi<=34.9):\n",
    "        print (\"Obese class I\")\n",
    "    elif (bmi>=35 and bmi<=39.9):\n",
    "        print (\"Obese class II\")\n",
    "    else:\n",
    "        print (\"Obese class III\")\n"
   ]
  },
  {
   "cell_type": "code",
   "execution_count": null,
   "id": "d2d781e7",
   "metadata": {},
   "outputs": [],
   "source": []
  }
 ],
 "metadata": {
  "kernelspec": {
   "display_name": "Python 3 (ipykernel)",
   "language": "python",
   "name": "python3"
  },
  "language_info": {
   "codemirror_mode": {
    "name": "ipython",
    "version": 3
   },
   "file_extension": ".py",
   "mimetype": "text/x-python",
   "name": "python",
   "nbconvert_exporter": "python",
   "pygments_lexer": "ipython3",
   "version": "3.11.5"
  }
 },
 "nbformat": 4,
 "nbformat_minor": 5
}
