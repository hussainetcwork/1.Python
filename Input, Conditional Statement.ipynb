{
 "cells": [
  {
   "cell_type": "code",
   "execution_count": 2,
   "id": "b102a991",
   "metadata": {},
   "outputs": [
    {
     "name": "stdout",
     "output_type": "stream",
     "text": [
      "Enther the number 1:10\n",
      "ENter the number 2:20\n",
      "1020\n"
     ]
    }
   ],
   "source": [
    "Num1=input(\"Enther the number 1:\")\n",
    "Num2=input(\"ENter the number 2:\")\n",
    "add=Num1+Num2\n",
    "print (add)\n"
   ]
  },
  {
   "cell_type": "code",
   "execution_count": 3,
   "id": "932bcce4",
   "metadata": {},
   "outputs": [
    {
     "name": "stdout",
     "output_type": "stream",
     "text": [
      "Enther the number 1:10\n",
      "ENter the number 2:20\n",
      "30\n"
     ]
    }
   ],
   "source": [
    "Num1=int(input(\"Enther the number 1:\"))\n",
    "Num2=int(input(\"ENter the number 2:\"))\n",
    "add=Num1+Num2\n",
    "print (add)\n"
   ]
  },
  {
   "cell_type": "code",
   "execution_count": 5,
   "id": "87c17861",
   "metadata": {},
   "outputs": [
    {
     "name": "stdout",
     "output_type": "stream",
     "text": [
      "hello\n"
     ]
    }
   ],
   "source": [
    "word='hello'\n",
    "print(word)"
   ]
  },
  {
   "cell_type": "code",
   "execution_count": 6,
   "id": "5868134d",
   "metadata": {},
   "outputs": [
    {
     "name": "stdout",
     "output_type": "stream",
     "text": [
      "Enter the Age:18\n",
      "Adult\n"
     ]
    }
   ],
   "source": [
    "Age=int(input(\"Enter the Age:\"))\n",
    "if (Age==18):\n",
    "    print(\"Adult\")"
   ]
  },
  {
   "cell_type": "code",
   "execution_count": 9,
   "id": "d9ac299e",
   "metadata": {},
   "outputs": [
    {
     "name": "stdout",
     "output_type": "stream",
     "text": [
      "Enter the Age:18\n",
      "Adult\n"
     ]
    }
   ],
   "source": [
    "Age=int(input(\"Enter the Age:\"))\n",
    "if (Age<18):\n",
    "    print(\"Child\")\n",
    "else:\n",
    "    print(\"Adult\")"
   ]
  },
  {
   "cell_type": "code",
   "execution_count": 16,
   "id": "ae463c1e",
   "metadata": {},
   "outputs": [
    {
     "name": "stdout",
     "output_type": "stream",
     "text": [
      "Enter the Age:39\n",
      "Citizen\n"
     ]
    }
   ],
   "source": [
    "age=int(input(\"Enter the Age:\"))\n",
    "if (age<18):\n",
    "    print(\"Child\")\n",
    "elif(age<39):\n",
    "    print(\"Adult\")\n",
    "elif(age<59):\n",
    "    print(\"Citizen\")\n",
    "else:\n",
    "    print(\"Senior Citizen\")\n",
    "    "
   ]
  },
  {
   "cell_type": "code",
   "execution_count": 18,
   "id": "430e534a",
   "metadata": {},
   "outputs": [
    {
     "name": "stdout",
     "output_type": "stream",
     "text": [
      "29\n",
      "35\n",
      "43\n",
      "21\n",
      "19\n",
      "23\n"
     ]
    }
   ],
   "source": [
    "#for loop\n",
    "#Syntax - for temp in mainvariable\n",
    "lists=[29,35,43,21,19,23]\n",
    "for temp in lists:\n",
    "    print(temp)"
   ]
  },
  {
   "cell_type": "code",
   "execution_count": 20,
   "id": "aabefce0",
   "metadata": {},
   "outputs": [
    {
     "name": "stdout",
     "output_type": "stream",
     "text": [
      "Adult\n",
      "Adult\n",
      "Citizen\n",
      "Child\n",
      "Senior Citizen\n",
      "Adult\n"
     ]
    }
   ],
   "source": [
    "lists=[29,35,43,16,90,23]\n",
    "for age in lists:\n",
    "    if (age<18):\n",
    "        print(\"Child\")\n",
    "    elif(age<39):\n",
    "        print(\"Adult\")\n",
    "    elif(age<59):\n",
    "        print(\"Citizen\")\n",
    "    else:\n",
    "        print(\"Senior Citizen\")\n"
   ]
  },
  {
   "cell_type": "code",
   "execution_count": 22,
   "id": "cb75aa16",
   "metadata": {},
   "outputs": [
    {
     "name": "stdout",
     "output_type": "stream",
     "text": [
      "Enter the number:19\n",
      "odd number\n"
     ]
    }
   ],
   "source": [
    "num=int(input(\"Enter the number:\"))\n",
    "if((num%2)==0):\n",
    "    print(\"even number\")\n",
    "else:\n",
    "    print(\"odd number\")"
   ]
  },
  {
   "cell_type": "code",
   "execution_count": 23,
   "id": "2661be1a",
   "metadata": {},
   "outputs": [
    {
     "data": {
      "text/plain": [
       "range(0, 10)"
      ]
     },
     "execution_count": 23,
     "metadata": {},
     "output_type": "execute_result"
    }
   ],
   "source": [
    "#Range - Its inbuild fuction\n",
    "range(0,10)"
   ]
  },
  {
   "cell_type": "code",
   "execution_count": 25,
   "id": "a5d8be53",
   "metadata": {},
   "outputs": [
    {
     "name": "stdout",
     "output_type": "stream",
     "text": [
      "range(0, 10)\n"
     ]
    }
   ],
   "source": [
    "print (range(0,10))"
   ]
  },
  {
   "cell_type": "code",
   "execution_count": 26,
   "id": "d964ae87",
   "metadata": {},
   "outputs": [
    {
     "name": "stdout",
     "output_type": "stream",
     "text": [
      "0\n",
      "1\n",
      "2\n",
      "3\n",
      "4\n",
      "5\n",
      "6\n",
      "7\n",
      "8\n",
      "9\n"
     ]
    }
   ],
   "source": [
    "for num in range(0,10):\n",
    "    print(num)"
   ]
  },
  {
   "cell_type": "code",
   "execution_count": 30,
   "id": "51c5d7bd",
   "metadata": {},
   "outputs": [],
   "source": [
    "#not working\n",
    "for num in range(20,10):\n",
    "    print(num)"
   ]
  },
  {
   "cell_type": "code",
   "execution_count": 31,
   "id": "c848139b",
   "metadata": {},
   "outputs": [
    {
     "name": "stdout",
     "output_type": "stream",
     "text": [
      "20\n",
      "21\n",
      "22\n",
      "23\n",
      "24\n",
      "25\n",
      "26\n",
      "27\n",
      "28\n",
      "29\n"
     ]
    }
   ],
   "source": [
    "for num in range(20,30):\n",
    "    print(num)"
   ]
  },
  {
   "cell_type": "code",
   "execution_count": 32,
   "id": "e17ddd1b",
   "metadata": {},
   "outputs": [
    {
     "name": "stdout",
     "output_type": "stream",
     "text": [
      "20\n",
      "22\n",
      "24\n",
      "26\n",
      "28\n"
     ]
    }
   ],
   "source": [
    "#Syntax range(start,stop,step)\n",
    "for num in range(20,30,2):\n",
    "    print(num)"
   ]
  },
  {
   "cell_type": "code",
   "execution_count": null,
   "id": "18f029a9",
   "metadata": {},
   "outputs": [],
   "source": []
  }
 ],
 "metadata": {
  "kernelspec": {
   "display_name": "Python 3 (ipykernel)",
   "language": "python",
   "name": "python3"
  },
  "language_info": {
   "codemirror_mode": {
    "name": "ipython",
    "version": 3
   },
   "file_extension": ".py",
   "mimetype": "text/x-python",
   "name": "python",
   "nbconvert_exporter": "python",
   "pygments_lexer": "ipython3",
   "version": "3.11.5"
  }
 },
 "nbformat": 4,
 "nbformat_minor": 5
}
