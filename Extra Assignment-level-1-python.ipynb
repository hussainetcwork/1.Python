{
 "cells": [
  {
   "cell_type": "code",
   "execution_count": 2,
   "id": "001e006f",
   "metadata": {},
   "outputs": [
    {
     "name": "stdout",
     "output_type": "stream",
     "text": [
      "HOPE AI\n"
     ]
    }
   ],
   "source": [
    "print(\"HOPE AI\")"
   ]
  },
  {
   "cell_type": "code",
   "execution_count": 3,
   "id": "e013999a",
   "metadata": {},
   "outputs": [
    {
     "name": "stdout",
     "output_type": "stream",
     "text": [
      "Enter your institute name? :HOPE AI\n"
     ]
    },
    {
     "data": {
      "text/plain": [
       "'HOPE AI'"
      ]
     },
     "execution_count": 3,
     "metadata": {},
     "output_type": "execute_result"
    }
   ],
   "source": [
    "input (\"Enter your institute name? :\")"
   ]
  },
  {
   "cell_type": "code",
   "execution_count": 4,
   "id": "289eabb6",
   "metadata": {},
   "outputs": [
    {
     "name": "stdout",
     "output_type": "stream",
     "text": [
      "Enter your name: Hussain Ahamed\n",
      "Enter your age: 35\n",
      "Enter your school name: IHSS\n",
      "Enter your drgree: B.E\n"
     ]
    },
    {
     "data": {
      "text/plain": [
       "'B.E'"
      ]
     },
     "execution_count": 4,
     "metadata": {},
     "output_type": "execute_result"
    }
   ],
   "source": [
    "#Buy inputs\n",
    "input(\"Enter your name: \")\n",
    "input(\"Enter your age: \")\n",
    "input(\"Enter your school name: \")\n",
    "input(\"Enter your drgree: \")"
   ]
  },
  {
   "cell_type": "code",
   "execution_count": 8,
   "id": "03ec4f82",
   "metadata": {},
   "outputs": [
    {
     "name": "stdout",
     "output_type": "stream",
     "text": [
      "a= 10\n",
      "b= 20\n",
      "add= 30\n"
     ]
    }
   ],
   "source": [
    "#Addition\n",
    "num1=int(input(\"a= \"))\n",
    "num2=int(input(\"b= \"))\n",
    "mat=num1+num2\n",
    "print (\"add=\",mat)\n"
   ]
  },
  {
   "cell_type": "code",
   "execution_count": 9,
   "id": "af2d1a18",
   "metadata": {},
   "outputs": [
    {
     "name": "stdout",
     "output_type": "stream",
     "text": [
      "a= 20\n",
      "b= 30\n",
      "sub= -10\n"
     ]
    }
   ],
   "source": [
    "#Subtraction\n",
    "num1=int(input(\"a= \"))\n",
    "num2=int(input(\"b= \"))\n",
    "mat=num1-num2\n",
    "print (\"sub=\",mat)"
   ]
  },
  {
   "cell_type": "code",
   "execution_count": 11,
   "id": "cda178c2",
   "metadata": {},
   "outputs": [
    {
     "name": "stdout",
     "output_type": "stream",
     "text": [
      "a= 63\n",
      "b= 97\n",
      "Mul= 6111\n"
     ]
    }
   ],
   "source": [
    "#Multiplication\n",
    "num1=int(input(\"a= \"))\n",
    "num2=int(input(\"b= \"))\n",
    "mat=num1*num2\n",
    "print (\"Mul=\",mat)\n"
   ]
  },
  {
   "cell_type": "code",
   "execution_count": 12,
   "id": "7f38da56",
   "metadata": {},
   "outputs": [
    {
     "name": "stdout",
     "output_type": "stream",
     "text": [
      "a= 76\n",
      "b= 31\n",
      "Mul= 2.4516129032258065\n"
     ]
    }
   ],
   "source": [
    "#Division\n",
    "num1=int(input(\"a= \"))\n",
    "num2=int(input(\"b= \"))\n",
    "mat=num1/num2\n",
    "print (\"Div=\",mat)\n"
   ]
  },
  {
   "cell_type": "code",
   "execution_count": 16,
   "id": "73749e20",
   "metadata": {},
   "outputs": [
    {
     "name": "stdout",
     "output_type": "stream",
     "text": [
      "a= 76\n",
      "b= 31\n",
      "Floor division= 2\n"
     ]
    }
   ],
   "source": [
    "#Floor division\n",
    "num1=int(input(\"a= \"))\n",
    "num2=int(input(\"b= \"))\n",
    "mat=int(num1/num2)\n",
    "print (\"Floor division=\",mat)"
   ]
  },
  {
   "cell_type": "code",
   "execution_count": 17,
   "id": "d137a437",
   "metadata": {},
   "outputs": [
    {
     "name": "stdout",
     "output_type": "stream",
     "text": [
      "a= 76\n",
      "b= 31\n",
      "Modulo= 14\n"
     ]
    }
   ],
   "source": [
    "#Modulo\n",
    "num1=int(input(\"a= \"))\n",
    "num2=int(input(\"b= \"))\n",
    "mat=num1%num2\n",
    "print (\"Modulo=\",mat)\n"
   ]
  },
  {
   "cell_type": "code",
   "execution_count": 21,
   "id": "798ec2f9",
   "metadata": {},
   "outputs": [
    {
     "name": "stdout",
     "output_type": "stream",
     "text": [
      "a= 4\n",
      "b= 4\n",
      "Power= 256\n"
     ]
    }
   ],
   "source": [
    "#Power\n",
    "num1=int(input(\"a= \"))\n",
    "num2=int(input(\"b= \"))\n",
    "mat=num1**num2\n",
    "print (\"Power=\",mat)\n",
    "\n"
   ]
  },
  {
   "cell_type": "code",
   "execution_count": null,
   "id": "b18be1ad",
   "metadata": {},
   "outputs": [],
   "source": []
  }
 ],
 "metadata": {
  "kernelspec": {
   "display_name": "Python 3 (ipykernel)",
   "language": "python",
   "name": "python3"
  },
  "language_info": {
   "codemirror_mode": {
    "name": "ipython",
    "version": 3
   },
   "file_extension": ".py",
   "mimetype": "text/x-python",
   "name": "python",
   "nbconvert_exporter": "python",
   "pygments_lexer": "ipython3",
   "version": "3.11.5"
  }
 },
 "nbformat": 4,
 "nbformat_minor": 5
}
