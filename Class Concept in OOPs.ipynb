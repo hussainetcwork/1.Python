{
 "cells": [
  {
   "cell_type": "code",
   "execution_count": 7,
   "id": "3d609318",
   "metadata": {},
   "outputs": [],
   "source": [
    "class multiplefuctions():\n",
    "    def AgeCategory():\n",
    "        age=int(input(\"Enter the Age:\"))\n",
    "        if (age<18):\n",
    "            category=\"Child\"\n",
    "        elif(age<39):\n",
    "            category=\"Adult\"\n",
    "        elif(age<59):\n",
    "            category=\"Citizen\"\n",
    "        else:\n",
    "            category=\"Senior Citizen\"\n",
    "        return category\n",
    "    \n",
    "    def addition ():\n",
    "        num1=int(input(\"Enter first number:\"))\n",
    "        num2=int(input(\"Enter second number:\"))\n",
    "        add=num1+num2\n",
    "        return add"
   ]
  },
  {
   "cell_type": "code",
   "execution_count": 8,
   "id": "caeb46bc",
   "metadata": {},
   "outputs": [
    {
     "name": "stdout",
     "output_type": "stream",
     "text": [
      "Enter the Age:44\n"
     ]
    },
    {
     "data": {
      "text/plain": [
       "'Citizen'"
      ]
     },
     "execution_count": 8,
     "metadata": {},
     "output_type": "execute_result"
    }
   ],
   "source": [
    "multiplefuctions.AgeCategory()"
   ]
  },
  {
   "cell_type": "code",
   "execution_count": 9,
   "id": "becdf303",
   "metadata": {},
   "outputs": [
    {
     "name": "stdout",
     "output_type": "stream",
     "text": [
      "Enter first number:20\n",
      "Enter second number:30\n"
     ]
    },
    {
     "data": {
      "text/plain": [
       "50"
      ]
     },
     "execution_count": 9,
     "metadata": {},
     "output_type": "execute_result"
    }
   ],
   "source": [
    "multiplefuctions.addition()"
   ]
  },
  {
   "cell_type": "code",
   "execution_count": null,
   "id": "6ed2106f",
   "metadata": {},
   "outputs": [],
   "source": []
  }
 ],
 "metadata": {
  "kernelspec": {
   "display_name": "Python 3 (ipykernel)",
   "language": "python",
   "name": "python3"
  },
  "language_info": {
   "codemirror_mode": {
    "name": "ipython",
    "version": 3
   },
   "file_extension": ".py",
   "mimetype": "text/x-python",
   "name": "python",
   "nbconvert_exporter": "python",
   "pygments_lexer": "ipython3",
   "version": "3.11.5"
  }
 },
 "nbformat": 4,
 "nbformat_minor": 5
}
