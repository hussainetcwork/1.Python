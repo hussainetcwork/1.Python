{
 "cells": [
  {
   "cell_type": "code",
   "execution_count": 4,
   "id": "82c28395",
   "metadata": {},
   "outputs": [
    {
     "name": "stdout",
     "output_type": "stream",
     "text": [
      "Sub-fields in AI are:\n",
      "Machine Learning\n",
      "Neural Networks\n",
      "Vision,Robotics\n",
      "Speech Processing\n",
      "Natural Language Processing\n"
     ]
    }
   ],
   "source": [
    "from LibraryAssignments import SubfieldsInAI\n",
    "SubfieldsInAI.Subfields()"
   ]
  },
  {
   "cell_type": "code",
   "execution_count": 7,
   "id": "152c9a0b",
   "metadata": {},
   "outputs": [
    {
     "name": "stdout",
     "output_type": "stream",
     "text": [
      "Enter a number:15526\n",
      "15526 is Even number\n"
     ]
    }
   ],
   "source": [
    "from LibraryAssignments import OddEven\n",
    "OddEven.OddEven()"
   ]
  },
  {
   "cell_type": "code",
   "execution_count": 9,
   "id": "fdbfac18",
   "metadata": {},
   "outputs": [
    {
     "name": "stdout",
     "output_type": "stream",
     "text": [
      "Your Gender:Male\n",
      "Your Age:22\n",
      "Eligible\n"
     ]
    }
   ],
   "source": [
    "from LibraryAssignments import ElegiblityForMarriage\n",
    "ElegiblityForMarriage.Elegible()"
   ]
  },
  {
   "cell_type": "code",
   "execution_count": 12,
   "id": "31f04a59",
   "metadata": {},
   "outputs": [
    {
     "name": "stdout",
     "output_type": "stream",
     "text": [
      "Subject1=98\n",
      "Subject2=96\n",
      "Subject3=86\n",
      "Subject4=78\n",
      "Subject5=99\n",
      "Total : 457\n",
      "Percentage : 91.4\n"
     ]
    }
   ],
   "source": [
    "from LibraryAssignments import FindPercent\n",
    "FindPercent.percentage()"
   ]
  },
  {
   "cell_type": "code",
   "execution_count": 14,
   "id": "29f748ae",
   "metadata": {},
   "outputs": [
    {
     "name": "stdout",
     "output_type": "stream",
     "text": [
      "Height:10\n",
      "Breadth:20\n",
      "Area formula: (Height*Breadth)/2\n",
      "Area of Triangle: 100.0\n",
      "Height1:20\n",
      "Height2:30\n",
      "Breadth:20\n",
      "Perimeter formula: Height1+Height2+Breadth\n",
      "Perimeter of Triangle: 70\n"
     ]
    }
   ],
   "source": [
    "from LibraryAssignments import triangle\n",
    "triangle.triangle()"
   ]
  },
  {
   "cell_type": "code",
   "execution_count": null,
   "id": "c2e300f0",
   "metadata": {},
   "outputs": [],
   "source": []
  }
 ],
 "metadata": {
  "kernelspec": {
   "display_name": "Python 3 (ipykernel)",
   "language": "python",
   "name": "python3"
  },
  "language_info": {
   "codemirror_mode": {
    "name": "ipython",
    "version": 3
   },
   "file_extension": ".py",
   "mimetype": "text/x-python",
   "name": "python",
   "nbconvert_exporter": "python",
   "pygments_lexer": "ipython3",
   "version": "3.11.5"
  }
 },
 "nbformat": 4,
 "nbformat_minor": 5
}
