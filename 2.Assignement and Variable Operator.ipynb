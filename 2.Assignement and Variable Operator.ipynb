{
 "cells": [
  {
   "cell_type": "code",
   "execution_count": 3,
   "id": "80edc8fe",
   "metadata": {},
   "outputs": [
    {
     "name": "stdout",
     "output_type": "stream",
     "text": [
      "add\n"
     ]
    }
   ],
   "source": [
    "num1=10\n",
    "num2=40\n",
    "add=num1+num2\n",
    "print(\"add\")"
   ]
  },
  {
   "cell_type": "code",
   "execution_count": 4,
   "id": "d5911e3f",
   "metadata": {},
   "outputs": [
    {
     "name": "stdout",
     "output_type": "stream",
     "text": [
      "50\n"
     ]
    }
   ],
   "source": [
    "num1 = 10\n",
    "num2 = 40\n",
    "add = num1+num2\n",
    "print(add)"
   ]
  },
  {
   "cell_type": "code",
   "execution_count": 7,
   "id": "41fc84ee",
   "metadata": {},
   "outputs": [
    {
     "name": "stdout",
     "output_type": "stream",
     "text": [
      "add 50\n"
     ]
    }
   ],
   "source": [
    "num1 = 10\n",
    "num2 = 40\n",
    "add = num1+num2\n",
    "print(\"add\",add)"
   ]
  },
  {
   "cell_type": "markdown",
   "id": "749d819b",
   "metadata": {},
   "source": []
  },
  {
   "cell_type": "code",
   "execution_count": 10,
   "id": "321bd471",
   "metadata": {},
   "outputs": [
    {
     "name": "stdout",
     "output_type": "stream",
     "text": [
      "The Addition of Number is\n",
      "Number1 is 10\n",
      "Number2 is 20\n",
      "The Answer is 30\n"
     ]
    }
   ],
   "source": [
    "num1=10\n",
    "num2=20\n",
    "add=num1+num2\n",
    "print(\"The Addition of Number is\")\n",
    "print(\"Number1 is\",num1)\n",
    "print(\"Number2 is\",num2)\n",
    "print(\"The Answer is\",add)"
   ]
  },
  {
   "cell_type": "code",
   "execution_count": 13,
   "id": "a45835ae",
   "metadata": {},
   "outputs": [
    {
     "name": "stdout",
     "output_type": "stream",
     "text": [
      "Enter the Number1:10\n",
      "Ënter the Number2:20\n",
      "The Answer is 1020\n"
     ]
    }
   ],
   "source": [
    "num1=input(\"Enter the Number1:\")\n",
    "num2=input(\"Ënter the Number2:\")\n",
    "add=num1+num2\n",
    "print(\"The Answer is\",add)"
   ]
  },
  {
   "cell_type": "code",
   "execution_count": 11,
   "id": "b65dfaa7",
   "metadata": {},
   "outputs": [
    {
     "name": "stdout",
     "output_type": "stream",
     "text": [
      "The Addition of Number is\n",
      "Number1 is 10\n",
      "Number2 is 20\n",
      "The Answer is 30\n"
     ]
    }
   ],
   "source": [
    "num1=10\n",
    "num2=20\n",
    "print(\"The Addition of Number is\")\n",
    "print(\"Number1 is\",num1)\n",
    "print(\"Number2 is\",num2)\n",
    "print(\"The Answer is\",num1+num2)"
   ]
  },
  {
   "cell_type": "code",
   "execution_count": null,
   "id": "a4753b4a",
   "metadata": {},
   "outputs": [],
   "source": []
  }
 ],
 "metadata": {
  "kernelspec": {
   "display_name": "Python 3 (ipykernel)",
   "language": "python",
   "name": "python3"
  },
  "language_info": {
   "codemirror_mode": {
    "name": "ipython",
    "version": 3
   },
   "file_extension": ".py",
   "mimetype": "text/x-python",
   "name": "python",
   "nbconvert_exporter": "python",
   "pygments_lexer": "ipython3",
   "version": "3.11.5"
  }
 },
 "nbformat": 4,
 "nbformat_minor": 5
}
